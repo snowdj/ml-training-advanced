{
 "cells": [
  {
   "cell_type": "markdown",
   "metadata": {},
   "source": [
    "# Review of scikit-learn API"
   ]
  },
  {
   "cell_type": "markdown",
   "metadata": {},
   "source": [
    "# Exercise\n",
    "\n",
    "Load the dataset ``data/bank-campaign.csv`` (you can find a description in data/bank-campaign-desc.txt).\n",
    "\n",
    "This dataset is success of marketing a telephone bank marketing campaign. The goal is to predict the binary outcome \"target\", which is whether a client subscribed to a new product.\n",
    "\n",
    "Split the data into a training and a test set using ``train_test_split``.\n",
    "Use cross-validation to evaluate a RandomForestClassifier on the training part.\n",
    "Then use ``GridSearchCV`` to adjust the parameters ``max_features`` and ``max_depth``.\n",
    "Create a heat-map with the cross-validation results for the whole grid.\n",
    "\n",
    "Bonus: Also plot the influence of ``max_depth`` on runtime."
   ]
  },
  {
   "cell_type": "code",
   "execution_count": null,
   "metadata": {},
   "outputs": [],
   "source": [
    "# %load solutions/bank_campaign.py"
   ]
  }
 ],
 "metadata": {
  "anaconda-cloud": {},
  "kernelspec": {
   "display_name": "Python [conda env:py37]",
   "language": "python",
   "name": "conda-env-py37-py"
  },
  "language_info": {
   "codemirror_mode": {
    "name": "ipython",
    "version": 3
   },
   "file_extension": ".py",
   "mimetype": "text/x-python",
   "name": "python",
   "nbconvert_exporter": "python",
   "pygments_lexer": "ipython3",
   "version": "3.7.0"
  }
 },
 "nbformat": 4,
 "nbformat_minor": 2
}
